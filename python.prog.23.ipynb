{
 "cells": [
  {
   "cell_type": "markdown",
   "id": "cc9a61b0",
   "metadata": {},
   "source": [
    "# Q1 Create a function that takes a number as an argument and returns True or False depending on whether the number is symmetrical or not. A number is symmetrical when it is the same as its reverse.\n",
    "# Examples\n",
    "# is_symmetrical(7227) ➞ True\n",
    "# is_symmetrical(12567) ➞ False\n",
    "# is_symmetrical(44444444) ➞ True\n",
    "# is_symmetrical(9939) ➞ False\n",
    "# is_symmetrical(1112111) ➞ True"
   ]
  },
  {
   "cell_type": "code",
   "execution_count": null,
   "id": "5af3e65e",
   "metadata": {},
   "outputs": [],
   "source": [
    "To create a function is_symmetrical that takes a number as an argument and determines whether the number is symmetrical or not, you can convert the number to a string and compare it with its reverse. If the string representation of the number is the same as its reverse, it means the number is symmetrical, and the function returns True. Otherwise, it returns False.\n",
    "\n",
    "Here's the implementation of the is_symmetrical function:\n",
    "def is_symmetrical(number):\n",
    "    return str(number) == str(number)[::-1]\n",
    "print(is_symmetrical(7227))\n",
    "# Output: True\n",
    "\n",
    "print(is_symmetrical(12567))\n",
    "# Output: False\n",
    "\n",
    "print(is_symmetrical(44444444))\n",
    "# Output: True\n",
    "\n",
    "print(is_symmetrical(9939))\n",
    "# Output: False\n",
    "\n",
    "print(is_symmetrical(1112111))\n",
    "# Output: True\n"
   ]
  },
  {
   "cell_type": "markdown",
   "id": "8af1d0fb",
   "metadata": {},
   "source": [
    "# Q2 Given a string of numbers separated by a comma and space, return the product of the numbers.\n",
    "# Examples\n",
    "# multiply_nums(&quot;2, 3&quot;) ➞ 6\n",
    "# multiply_nums(&quot;1, 2, 3, 4&quot;) ➞ 24\n",
    "# multiply_nums(&quot;54, 75, 453, 0&quot;) ➞ 0\n",
    "# multiply_nums(&quot;10, -2&quot;) ➞ -20"
   ]
  },
  {
   "cell_type": "code",
   "execution_count": null,
   "id": "bbee816f",
   "metadata": {},
   "outputs": [],
   "source": [
    "To create a function multiply_nums that takes a string of numbers separated by a comma and space and returns the product of the numbers, you can split the string into individual numbers, convert them to integers, and then calculate the product using a loop.\n",
    "\n",
    "Here's the implementation of the multiply_nums function:\n",
    "def multiply_nums(nums):\n",
    "    num_list = nums.split(\", \")\n",
    "    product = 1\n",
    "    for num in num_list:\n",
    "        product *= int(num)\n",
    "    return product\n",
    "print(multiply_nums(\"2, 3\"))\n",
    "# Output: 6\n",
    "\n",
    "print(multiply_nums(\"1, 2, 3, 4\"))\n",
    "# Output: 24\n",
    "\n",
    "print(multiply_nums(\"54, 75, 453, 0\"))\n",
    "# Output: 0\n",
    "\n",
    "print(multiply_nums(\"10, -2\"))\n",
    "# Output: -20\n"
   ]
  },
  {
   "cell_type": "markdown",
   "id": "7eefd28f",
   "metadata": {},
   "source": [
    "# Q3 Create a function that squares every digit of a number.\n",
    "# Examples\n",
    "# square_digits(9119) ➞ 811181\n",
    "# square_digits(2483) ➞ 416649\n",
    "# square_digits(3212) ➞ 9414\n",
    "# Notes\n",
    "# The function receives an integer and must return an integer.# "
   ]
  },
  {
   "cell_type": "code",
   "execution_count": null,
   "id": "6f51cac5",
   "metadata": {},
   "outputs": [],
   "source": [
    "Here's the implementation of the square_digits function:\n",
    "def square_digits(num):\n",
    "    squared_digits = \"\"\n",
    "    for digit in str(num):\n",
    "        squared_digits += str(int(digit) ** 2)\n",
    "    return int(squared_digits)\n",
    "print(square_digits(9119))\n",
    "# Output: 811181\n",
    "\n",
    "print(square_digits(2483))\n",
    "# Output: 416649\n",
    "\n",
    "print(square_digits(3212))\n",
    "# Output: 9414\n",
    "\n",
    "The function converts the input number num to a string using str(num). It then iterates over each digit in the string representation of the number. For each digit, it converts it back to an integer using int(digit), squares it using the exponentiation operator **, and converts the squared digit back to a string using str(). The squared digits are concatenated together using the += operator. Finally, the concatenated string of squared digits is converted back to an integer using int() and returned as the result."
   ]
  },
  {
   "cell_type": "markdown",
   "id": "64592dbb",
   "metadata": {},
   "source": [
    "# Q4 Create a function that sorts a list and removes all duplicate items from it.\n",
    "# Examples\n",
    "# setify([1, 3, 3, 5, 5]) ➞ [1, 3, 5]\n",
    "# setify([4, 4, 4, 4]) ➞ [4]\n",
    "# setify([5, 7, 8, 9, 10, 15]) ➞ [5, 7, 8, 9, 10, 15]\n",
    "# setify([3, 3, 3, 2, 1]) ➞ [1, 2, 3]"
   ]
  },
  {
   "cell_type": "code",
   "execution_count": null,
   "id": "6eb64669",
   "metadata": {},
   "outputs": [],
   "source": [
    "To create a function setify that sorts a list and removes all duplicate items from it, you can use the sorted function to sort the list and then convert it to a set to remove duplicates. Finally, you can convert the set back to a list and return it.\n",
    "\n",
    "Here's the implementation of the setify function:\n",
    "def setify(lst):\n",
    "    return list(set(lst))\n",
    "print(setify([1, 3, 3, 5, 5]))\n",
    "# Output: [1, 3, 5]\n",
    "\n",
    "print(setify([4, 4, 4, 4]))\n",
    "# Output: [4]\n",
    "\n",
    "print(setify([5, 7, 8, 9, 10, 15]))\n",
    "# Output: [5, 7, 8, 9, 10, 15]\n",
    "\n",
    "print(setify([3, 3, 3, 2, 1]))\n",
    "# Output: [1, 2, 3]\n"
   ]
  },
  {
   "cell_type": "markdown",
   "id": "ae373e0d",
   "metadata": {},
   "source": [
    "# Q5 Create a function that returns the mean of all digits.\n",
    "# Examples\n",
    "# mean(42) ➞ 3\n",
    "# mean(12345) ➞ 3\n",
    "# mean(666) ➞ 6\n",
    "# Notes\n",
    "# * The mean of all digits is the sum of digits / how many digits there are (e.g. mean of digits in\n",
    "# 512 is (5+1+2)/3(number of digits) = 8/3=2).\n",
    "# * The mean will always be an integer."
   ]
  },
  {
   "cell_type": "code",
   "execution_count": null,
   "id": "eb4f3386",
   "metadata": {},
   "outputs": [],
   "source": [
    "To create a function mean that returns the mean of all digits in a number, you can convert the number to a string and iterate over each character. Convert each character back to an integer and calculate the sum of all digits. Finally, divide the sum by the total number of digits to compute the mean.\n",
    "\n",
    "Here's the implementation of the mean function:\n",
    "def mean(number):\n",
    "    digits = [int(digit) for digit in str(number)]\n",
    "    digit_sum = sum(digits)\n",
    "    digit_count = len(digits)\n",
    "    return digit_sum // digit_count\n",
    "\n",
    "Example:\n",
    "    print(mean(42))\n",
    "# Output: 3\n",
    "\n",
    "print(mean(12345))\n",
    "# Output: 3\n",
    "\n",
    "print(mean(666))\n",
    "# Output: 6\n",
    "\n",
    "    "
   ]
  }
 ],
 "metadata": {
  "kernelspec": {
   "display_name": "Python 3 (ipykernel)",
   "language": "python",
   "name": "python3"
  },
  "language_info": {
   "codemirror_mode": {
    "name": "ipython",
    "version": 3
   },
   "file_extension": ".py",
   "mimetype": "text/x-python",
   "name": "python",
   "nbconvert_exporter": "python",
   "pygments_lexer": "ipython3",
   "version": "3.9.12"
  }
 },
 "nbformat": 4,
 "nbformat_minor": 5
}
